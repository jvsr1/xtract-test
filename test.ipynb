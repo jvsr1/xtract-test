{
 "cells": [
  {
   "cell_type": "code",
   "execution_count": 1,
   "id": "13a9f08f-c622-43ee-8cca-f03e399134d9",
   "metadata": {},
   "outputs": [],
   "source": [
    "import mdf_toolbox\n",
    "import requests\n",
    "import json"
   ]
  },
  {
   "cell_type": "code",
   "execution_count": 26,
   "id": "2f934441-ed81-4347-a951-647ed2cc47d3",
   "metadata": {},
   "outputs": [],
   "source": [
    "auths = mdf_toolbox.login(\n",
    "    services=[\n",
    "        \"data_mdf\",\n",
    "        \"transfer\",\n",
    "        \"search\",\n",
    "        \"openid\",\n",
    "        \"petrel\",\n",
    "        \"dlhub\",\n",
    "        \"https://auth.globus.org/scopes/facd7ccc-c5f4-42aa-916b-a0e270e2c2a9/all\",\n",
    "    ],\n",
    "    app_name=\"Foundry\",\n",
    "    make_clients=True,\n",
    "    no_browser=False,\n",
    "    no_local_server=False,\n",
    ")\n",
    "\n",
    "fx_scope = 'https://auth.globus.org/scopes/facd7ccc-c5f4-42aa-916b-a0e270e2c2a9/all'\n",
    "auth_keys = {'authorization': f\"Bearer {auths['petrel'].access_token}\",\n",
    "             'transfer': auths['transfer'].authorizer.access_token,\n",
    "             'search': auths['search'].authorizer.access_token,\n",
    "             'openid': auths['openid'].access_token,\n",
    "             'funcx': auths[fx_scope].access_token,\n",
    "             'petrel': auths['petrel'].access_token\n",
    "            }"
   ]
  },
  {
   "cell_type": "code",
   "execution_count": 33,
   "id": "7e7a7bc0-3521-48b3-81d9-3197f7f39212",
   "metadata": {},
   "outputs": [
    {
     "name": "stderr",
     "output_type": "stream",
     "text": [
      "/Users/joaovictor/miniconda3/envs/xtract-service/lib/python3.8/site-packages/urllib3/connectionpool.py:1013: InsecureRequestWarning: Unverified HTTPS request is being made to host '127.0.0.1'. Adding certificate verification is strongly advised. See: https://urllib3.readthedocs.io/en/1.26.x/advanced-usage.html#ssl-warnings\n",
      "  warnings.warn(\n"
     ]
    }
   ],
   "source": [
    "ep_name = 'joaovictorMBP'\n",
    "funcx_eid = 'a2c84d46-fb9b-4754-b810-db2cf6ffdb5c'\n",
    "globus_eid = 'a2c84d46-fb9b-4754-b810-db2cf6ffdb5c'\n",
    "xtract_path = '/Users/joaovictor/Desktop/xtract'\n",
    "local_download_path = ''\n",
    "local_metadata_path = ''\n",
    "authorization = auth_keys['authorization']\n",
    "\n",
    "payload = {\n",
    "    'headers': auth_keys,\n",
    "    'ep_name': ep_name,\n",
    "    'funcx_eid': funcx_eid,\n",
    "    'globus_eid': globus_eid,\n",
    "    'xtract_path': xtract_path,\n",
    "    'local_metadata_path': local_metadata_path\n",
    "}\n",
    "\n",
    "url = f'https://127.0.0.1:5000/configure_ep/{funcx_eid}'\n",
    "r = requests.post(url, json=payload, verify=False)"
   ]
  },
  {
   "cell_type": "code",
   "execution_count": 133,
   "id": "bcfc37b1-294a-4861-956d-31aaf40d322b",
   "metadata": {},
   "outputs": [
    {
     "name": "stdout",
     "output_type": "stream",
     "text": [
      "{'funcx_eid': 'e211ae76-0cf6-4e74-a9f1-8abc08429e12', 'message': 'Endpoint successfully configured!', 'status': 200}\n"
     ]
    }
   ],
   "source": [
    "print(r.json())"
   ]
  },
  {
   "cell_type": "code",
   "execution_count": null,
   "id": "d15f0ce0-3ab8-4e8b-bf6e-24fa099b1e98",
   "metadata": {},
   "outputs": [],
   "source": []
  }
 ],
 "metadata": {
  "kernelspec": {
   "display_name": "Python 3",
   "language": "python",
   "name": "python3"
  },
  "language_info": {
   "codemirror_mode": {
    "name": "ipython",
    "version": 3
   },
   "file_extension": ".py",
   "mimetype": "text/x-python",
   "name": "python",
   "nbconvert_exporter": "python",
   "pygments_lexer": "ipython3",
   "version": "3.8.11"
  }
 },
 "nbformat": 4,
 "nbformat_minor": 5
}
